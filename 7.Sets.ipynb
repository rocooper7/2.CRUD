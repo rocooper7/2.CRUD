{
 "metadata": {
  "language_info": {
   "codemirror_mode": {
    "name": "ipython",
    "version": 3
   },
   "file_extension": ".py",
   "mimetype": "text/x-python",
   "name": "python",
   "nbconvert_exporter": "python",
   "pygments_lexer": "ipython3",
   "version": "3.8.3-final"
  },
  "orig_nbformat": 2,
  "kernelspec": {
   "name": "python_defaultSpec_1599070534237",
   "display_name": "Python 3.8.3 64-bit ('Anaconda': conda)"
  }
 },
 "nbformat": 4,
 "nbformat_minor": 2,
 "cells": [
  {
   "cell_type": "markdown",
   "metadata": {},
   "source": [
    "## Conjuntos(No repetidos)"
   ]
  },
  {
   "cell_type": "code",
   "execution_count": 1,
   "metadata": {},
   "outputs": [],
   "source": [
    "c = set([1,2,3]) #Ó expresado así {1,2,3}"
   ]
  },
  {
   "cell_type": "code",
   "execution_count": 2,
   "metadata": {
    "tags": []
   },
   "outputs": [
    {
     "output_type": "stream",
     "name": "stdout",
     "text": "<class 'set'>\n<class 'set'>\n"
    }
   ],
   "source": [
    "a = set([1,2,3]) #Así se expresan los conjuntos\n",
    "b = set([3,4,5])\n",
    "print(type(a)) #<class 'set'>\n",
    "print(type(b)) #<class 'set'>"
   ]
  },
  {
   "cell_type": "code",
   "execution_count": 3,
   "metadata": {
    "tags": []
   },
   "outputs": [
    {
     "output_type": "stream",
     "name": "stdout",
     "text": "{1, 2, 3}\n{1, 2, 3, 20}\n"
    }
   ],
   "source": [
    "a.add(3) # No se puede agregar a un conjunto un núm. repetido\n",
    "print(a) #{1, 2, 3}\n",
    "a.add(20)\n",
    "print(a) #{1, 2, 3, 20}"
   ]
  },
  {
   "cell_type": "code",
   "execution_count": 4,
   "metadata": {
    "tags": []
   },
   "outputs": [
    {
     "output_type": "stream",
     "name": "stdout",
     "text": "{3}\n{1, 2, 3, 20, 4, 5}\n{1, 2, 20}\n{4, 5}\n"
    }
   ],
   "source": [
    "print (a.intersection(b)) # {3} Inner Join(los valores que compartan ambas variables)\n",
    "print (a.union(b)) # {1, 2, 3, 20, 4, 5} Full Join (tare todos los valores de ambas variables)\n",
    "print (a.difference(b)) # {1, 2, 20} Trae unicamente los valores que estan en la primara variable\n",
    "print (b.difference(a)) # {4, 5} Trae unicamente los valores que estan en la primara variable"
   ]
  },
  {
   "cell_type": "code",
   "execution_count": 5,
   "metadata": {
    "tags": []
   },
   "outputs": [
    {
     "output_type": "stream",
     "name": "stdout",
     "text": "{1, 2, 3}\n"
    }
   ],
   "source": [
    "a.remove(20)\n",
    "print (a) #{1, 2, 3}"
   ]
  },
  {
   "cell_type": "code",
   "execution_count": 6,
   "metadata": {
    "tags": []
   },
   "outputs": [
    {
     "output_type": "stream",
     "name": "stdout",
     "text": "['__and__', '__class__', '__contains__', '__delattr__', '__dir__', '__doc__', '__eq__', '__format__', '__ge__', '__getattribute__', '__gt__', '__hash__', '__iand__', '__init__', '__init_subclass__', '__ior__', '__isub__', '__iter__', '__ixor__', '__le__', '__len__', '__lt__', '__ne__', '__new__', '__or__', '__rand__', '__reduce__', '__reduce_ex__', '__repr__', '__ror__', '__rsub__', '__rxor__', '__setattr__', '__sizeof__', '__str__', '__sub__', '__subclasshook__', '__xor__', 'add', 'clear', 'copy', 'difference', 'difference_update', 'discard', 'intersection', 'intersection_update', 'isdisjoint', 'issubset', 'issuperset', 'pop', 'remove', 'symmetric_difference', 'symmetric_difference_update', 'union', 'update']\n"
    }
   ],
   "source": [
    "print(dir(a))"
   ]
  },
  {
   "cell_type": "code",
   "execution_count": 7,
   "metadata": {
    "tags": []
   },
   "outputs": [
    {
     "output_type": "stream",
     "name": "stdout",
     "text": "True\n{3}\n{1, 2, 3, 4, 5}\n{1, 2}\n{4, 5}\n"
    }
   ],
   "source": [
    "#Otra Forma de hacerlo \n",
    "a = set([1,2,3])\n",
    "b = set([3,4,5])\n",
    "print(2 in [1,2,3]) #True Podemos determinar si un num esta dentro de un conjunto\n",
    "print (a & b) # Intersecccion {3}\n",
    "print (a | b) # union {1, 2, 3, 4, 5}\n",
    "print (a - b) # Diferencia {1, 2}\n",
    "print (b - a) # Diferencia {4, 5}"
   ]
  }
 ]
}