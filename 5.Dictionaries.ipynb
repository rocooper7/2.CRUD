{
 "metadata": {
  "language_info": {
   "codemirror_mode": {
    "name": "ipython",
    "version": 3
   },
   "file_extension": ".py",
   "mimetype": "text/x-python",
   "name": "python",
   "nbconvert_exporter": "python",
   "pygments_lexer": "ipython3",
   "version": "3.8.3-final"
  },
  "orig_nbformat": 2,
  "kernelspec": {
   "name": "python_defaultSpec_1599070582858",
   "display_name": "Python 3.8.3 64-bit ('Anaconda': conda)"
  }
 },
 "nbformat": 4,
 "nbformat_minor": 2,
 "cells": [
  {
   "cell_type": "markdown",
   "metadata": {},
   "source": [
    "## Diccionarios"
   ]
  },
  {
   "cell_type": "code",
   "execution_count": 1,
   "metadata": {},
   "outputs": [],
   "source": [
    "d={}\n",
    "d['pizza'] = 'comida más sabrosa del mundo' #Key : Value"
   ]
  },
  {
   "cell_type": "code",
   "execution_count": 2,
   "metadata": {
    "tags": []
   },
   "outputs": [
    {
     "output_type": "stream",
     "name": "stdout",
     "text": "{'pizza': 'Es la comida más sabrosa del mundo'}\n{'pizza': 'Es la comida más sabrosa del mundo', 'pasta': 'Es la comida mas sabrosa de Italia'}\n"
    }
   ],
   "source": [
    "rae = {}\n",
    "rae ['pizza'] = 'Es la comida más sabrosa del mundo'\n",
    "print (rae) #{'pizza': 'Es la comida más sabrosa del mundo'}\n",
    "rae ['pasta'] = 'Es la comida mas sabrosa de Italia'\n",
    "print (rae) #{'pizza': 'Es la comida más sabrosa del mundo', 'pasta': 'Es la comida mas sabrosa de Italia'}"
   ]
  },
  {
   "cell_type": "code",
   "execution_count": 4,
   "metadata": {
    "tags": []
   },
   "outputs": [
    {
     "output_type": "stream",
     "name": "stdout",
     "text": "Es la comida más sabrosa del mundo\nEs la comida mas sabrosa de Italia\n"
    }
   ],
   "source": [
    "print(rae['pizza']) #Es la comida más sabrosa del mundo\n",
    "print(rae['pasta']) #Es la comida mas sabrosa de Italia"
   ]
  },
  {
   "cell_type": "code",
   "execution_count": 5,
   "metadata": {
    "tags": []
   },
   "outputs": [
    {
     "output_type": "stream",
     "name": "stdout",
     "text": "None\nEs la comida más sabrosa del mundo\n"
    }
   ],
   "source": [
    "# print(rae['helado']) # Error\n",
    "rae.get ('helado',None) # Para poder hacer que helado no me aparezca como error \n",
    "a = rae.get('helado',None)\n",
    "print (a) #None\n",
    "a = rae.get ('pizza', None)\n",
    "print(a) #Es la comida más sabrosa del mundo   \n",
    "del rae ['pasta']    #Borrar un diccionario  "
   ]
  },
  {
   "cell_type": "markdown",
   "metadata": {},
   "source": [
    "## Iteraciones en Diccionarios"
   ]
  },
  {
   "cell_type": "code",
   "execution_count": 7,
   "metadata": {
    "tags": []
   },
   "outputs": [
    {
     "output_type": "stream",
     "name": "stdout",
     "text": "dict_keys(['pizza'])\ndict_values(['Es la comida más sabrosa del mundo'])\ndict_items([('pizza', 'Es la comida más sabrosa del mundo')])\n"
    }
   ],
   "source": [
    "print (rae.keys()) #dict_keys(['pizza', 'pasta'])\n",
    "print (rae.values()) #dict_values(['Es la comida más sabrosa del mundo', 'Es la comida mas sabrosa de Italia'])\n",
    "print (rae.items()) #dict_items([('pizza', 'Es la comida más sabrosa del mundo'), ('pasta', 'Es la comida mas sabrosa de Italia')])"
   ]
  },
  {
   "cell_type": "code",
   "execution_count": 8,
   "metadata": {
    "tags": []
   },
   "outputs": [
    {
     "output_type": "stream",
     "name": "stdout",
     "text": "pizza\nEs la comida más sabrosa del mundo\npizza Es la comida más sabrosa del mundo\n"
    }
   ],
   "source": [
    "for key in rae.keys():\n",
    "     print (key) #pizza,pasta\n",
    "\n",
    "for value in rae.values():\n",
    "     print (value) #Es la comida más sabrosa del mundo, Es la comida mas sabrosa de Italia\n",
    "for key,value in rae.items():\n",
    "    print (key,value) #pizza Es la comida más sabrosa del mundo, pasta Es la comida mas sabrosa de Italia"
   ]
  }
 ]
}