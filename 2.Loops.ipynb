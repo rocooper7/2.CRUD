{
 "metadata": {
  "language_info": {
   "codemirror_mode": {
    "name": "ipython",
    "version": 3
   },
   "file_extension": ".py",
   "mimetype": "text/x-python",
   "name": "python",
   "nbconvert_exporter": "python",
   "pygments_lexer": "ipython3",
   "version": "3.8.3-final"
  },
  "orig_nbformat": 2,
  "kernelspec": {
   "name": "python_defaultSpec_1599068731998",
   "display_name": "Python 3.8.3 64-bit ('Anaconda': conda)"
  }
 },
 "nbformat": 4,
 "nbformat_minor": 2,
 "cells": [
  {
   "cell_type": "markdown",
   "metadata": {},
   "source": [
    "## For"
   ]
  },
  {
   "cell_type": "code",
   "execution_count": 1,
   "metadata": {
    "tags": []
   },
   "outputs": [
    {
     "output_type": "stream",
     "name": "stdout",
     "text": "range(0, 10)\n0\n1\n2\n3\n4\n5\n6\n7\n8\n9\n"
    }
   ],
   "source": [
    "print(range(10)) #range(0, 10)\n",
    "\n",
    "for i in range (10):\n",
    "    print (i) # 0,1,2,3,4,5,6,7,8,9"
   ]
  },
  {
   "cell_type": "markdown",
   "metadata": {},
   "source": [
    "## While"
   ]
  },
  {
   "cell_type": "code",
   "execution_count": 3,
   "metadata": {
    "tags": []
   },
   "outputs": [
    {
     "output_type": "stream",
     "name": "stdout",
     "text": "4\n3\n2\n1\n"
    }
   ],
   "source": [
    "def cuenta_regresiva (n):\n",
    "    while n > 0:\n",
    "        print (n) # print(n,end=' ') para que no haya espacios hacia abajo y se vaya al lado el resultado\n",
    "        n-=1\n",
    "cuenta_regresiva (4) #4,3,2,1\n",
    "# cuenta_regresiva (10) #10,9,8,7,6,5,4,3,2,1\n",
    "# cuenta_regresiva (-1) # ya no sale en el rango "
   ]
  },
  {
   "cell_type": "markdown",
   "metadata": {},
   "source": [
    "While Infinito"
   ]
  },
  {
   "cell_type": "code",
   "execution_count": null,
   "metadata": {},
   "outputs": [],
   "source": [
    "def cuenta_regresiva (n):\n",
    "    while n > 0:\n",
    "        print (n) \n",
    "        n+=1 # El While Loop infinito\n",
    "# cuenta_regresiva(3)"
   ]
  }
 ]
}