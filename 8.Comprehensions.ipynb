{
 "metadata": {
  "language_info": {
   "codemirror_mode": {
    "name": "ipython",
    "version": 3
   },
   "file_extension": ".py",
   "mimetype": "text/x-python",
   "name": "python",
   "nbconvert_exporter": "python",
   "pygments_lexer": "ipython3",
   "version": "3.8.3-final"
  },
  "orig_nbformat": 2,
  "kernelspec": {
   "name": "python_defaultSpec_1599070643485",
   "display_name": "Python 3.8.3 64-bit ('Anaconda': conda)"
  }
 },
 "nbformat": 4,
 "nbformat_minor": 2,
 "cells": [
  {
   "cell_type": "markdown",
   "metadata": {},
   "source": [
    "## List Comprenhension"
   ]
  },
  {
   "cell_type": "code",
   "execution_count": 11,
   "metadata": {
    "tags": []
   },
   "outputs": [
    {
     "output_type": "stream",
     "name": "stdout",
     "text": "[0, 2, 4, 6, 8, 10, 12, 14, 16, 18, 20, 22, 24, 26, 28, 30, 32, 34, 36, 38, 40, 42, 44, 46, 48, 50, 52, 54, 56, 58, 60, 62, 64, 66, 68, 70, 72, 74, 76, 78, 80, 82, 84, 86, 88, 90, 92, 94, 96, 98]\n"
    }
   ],
   "source": [
    "lista_de_numeros = list(range(100))\n",
    "#print(lista_de_numeros) \n",
    "\n",
    "pares = [numero for numero in lista_de_numeros if numero % 2 == 0] #Comprehension de lista\n",
    "print (pares) #Se sacan los numeros pares"
   ]
  },
  {
   "cell_type": "markdown",
   "metadata": {},
   "source": [
    "## Dictionary comprehension"
   ]
  },
  {
   "cell_type": "code",
   "execution_count": 12,
   "metadata": {
    "tags": []
   },
   "outputs": [
    {
     "output_type": "stream",
     "name": "stdout",
     "text": "{1: 'Pablo', 2: 'Ricardo', 3: 'Juan'}\n"
    }
   ],
   "source": [
    "student_id = [1,2,3] #Secrean dos listas, para después convertirlas en un diccionario\n",
    "student_name = ['Pablo','Ricardo','Juan']\n",
    "\n",
    "students_with_uid = {uid : student for uid,student in zip(student_id,student_name)} # Se utiliza el comprehesion de Diccionario sin operación lógica\n",
    "print(students_with_uid) #{1: 'Pablo', 2: 'Ricardo', 3: 'Juan'} Nos regresa un dict"
   ]
  },
  {
   "cell_type": "markdown",
   "metadata": {},
   "source": [
    "## Set comprehension"
   ]
  },
  {
   "cell_type": "code",
   "execution_count": 14,
   "metadata": {
    "tags": []
   },
   "outputs": [
    {
     "output_type": "stream",
     "name": "stdout",
     "text": "[3, 1, 2, 3, 1, 3, 2, 1, 2, 1]\n{1, 2, 3}\n"
    }
   ],
   "source": [
    "import random\n",
    "\n",
    "random_numbers = []\n",
    "for i in range(10):\n",
    "    random_numbers.append(random.randint(1,3))\n",
    "print(random_numbers) #[1, 3, 3, 1, 1, 3, 2, 2, 3, 2]\n",
    "\n",
    "non_repeated = {numero for numero in random_numbers}\n",
    "print(non_repeated) #{1, 2, 3} me devuelve un conjunto recordemos que no acepta valores repetidos"
   ]
  }
 ]
}