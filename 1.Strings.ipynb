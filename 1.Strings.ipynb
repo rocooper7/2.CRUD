{
 "metadata": {
  "language_info": {
   "codemirror_mode": {
    "name": "ipython",
    "version": 3
   },
   "file_extension": ".py",
   "mimetype": "text/x-python",
   "name": "python",
   "nbconvert_exporter": "python",
   "pygments_lexer": "ipython3",
   "version": "3.8.3-final"
  },
  "orig_nbformat": 2,
  "kernelspec": {
   "name": "python_defaultSpec_1599068424866",
   "display_name": "Python 3.8.3 64-bit ('Anaconda': conda)"
  }
 },
 "nbformat": 4,
 "nbformat_minor": 2,
 "cells": [
  {
   "cell_type": "markdown",
   "metadata": {
    "tags": []
   },
   "source": [
    "## Operaciones Con Strings"
   ]
  },
  {
   "cell_type": "code",
   "execution_count": 2,
   "metadata": {
    "tags": []
   },
   "outputs": [
    {
     "output_type": "stream",
     "name": "stdout",
     "text": "C\na\n8\n2581309801392\nMexicos\n2581309803440\n"
    }
   ],
   "source": [
    "country = 'Colombia'\n",
    "print (country [0]) #C Primera letra\n",
    "print (country [-1]) #a Ultima letra\n",
    "print (len(country)) #8 Total de letras\n",
    "\n",
    "country = 'Mexico'\n",
    "print (id(country)) #2298764361136\n",
    "country += 's' \n",
    "print (country) #Mexicos\n",
    "print (id(country)) #2298764363760"
   ]
  },
  {
   "cell_type": "code",
   "execution_count": 3,
   "metadata": {
    "tags": []
   },
   "outputs": [
    {
     "output_type": "stream",
     "name": "stdout",
     "text": "PLATZI\n1\nPlatzi\nTrue\n['__add__', '__class__', '__contains__', '__delattr__', '__dir__', '__doc__', '__eq__', '__format__', '__ge__', '__getattribute__', '__getitem__', '__getnewargs__', '__gt__', '__hash__', '__init__', '__init_subclass__', '__iter__', '__le__', '__len__', '__lt__', '__mod__', '__mul__', '__ne__', '__new__', '__reduce__', '__reduce_ex__', '__repr__', '__rmod__', '__rmul__', '__setattr__', '__sizeof__', '__str__', '__subclasshook__', 'capitalize', 'casefold', 'center', 'count', 'encode', 'endswith', 'expandtabs', 'find', 'format', 'format_map', 'index', 'isalnum', 'isalpha', 'isascii', 'isdecimal', 'isdigit', 'isidentifier', 'islower', 'isnumeric', 'isprintable', 'isspace', 'istitle', 'isupper', 'join', 'ljust', 'lower', 'lstrip', 'maketrans', 'partition', 'replace', 'rfind', 'rindex', 'rjust', 'rpartition', 'rsplit', 'rstrip', 'split', 'splitlines', 'startswith', 'strip', 'swapcase', 'title', 'translate', 'upper', 'zfill']\n"
    }
   ],
   "source": [
    "platzi = 'platzi'\n",
    "print (platzi.upper()) #PLATZI\n",
    "print (platzi.find ('la')) #1\n",
    "print (platzi.capitalize()) #Platzi\n",
    "print (platzi.startswith('p')) #True\n",
    "print (dir (platzi)) "
   ]
  },
  {
   "cell_type": "markdown",
   "metadata": {},
   "source": [
    "## Slices con Strings"
   ]
  },
  {
   "cell_type": "code",
   "execution_count": 5,
   "metadata": {
    "tags": []
   },
   "outputs": [
    {
     "output_type": "stream",
     "name": "stdout",
     "text": "err\nFerr\nlirracorreF\nFra\nFroarl\n"
    }
   ],
   "source": [
    "long_word = 'Ferrocarril'\n",
    "print (long_word [1:4]) #err\n",
    "print (long_word [:4]) #Ferr\n",
    "print (long_word [::-1]) # lirracorreF \n",
    "#Comienza desde el principio (F) y se va hasta el final (l) y con el -1 es el salto que da \n",
    "print (long_word [:8:3]) #Fra\n",
    "print (long_word [::2]) #Froarl"
   ]
  }
 ]
}