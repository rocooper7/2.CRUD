{
 "metadata": {
  "language_info": {
   "codemirror_mode": {
    "name": "ipython",
    "version": 3
   },
   "file_extension": ".py",
   "mimetype": "text/x-python",
   "name": "python",
   "nbconvert_exporter": "python",
   "pygments_lexer": "ipython3",
   "version": "3.8.3-final"
  },
  "orig_nbformat": 2,
  "kernelspec": {
   "name": "python_defaultSpec_1599156835961",
   "display_name": "Python 3.8.3 64-bit ('Anaconda': conda)"
  }
 },
 "nbformat": 4,
 "nbformat_minor": 2,
 "cells": [
  {
   "cell_type": "markdown",
   "metadata": {},
   "source": [
    "## Listas"
   ]
  },
  {
   "cell_type": "code",
   "execution_count": 1,
   "metadata": {},
   "outputs": [],
   "source": [
    "b=[1,2,3]"
   ]
  },
  {
   "cell_type": "code",
   "execution_count": 1,
   "metadata": {
    "tags": []
   },
   "outputs": [
    {
     "output_type": "stream",
     "name": "stdout",
     "text": "2812176719104\n2812176712512\n2812176716288\n"
    }
   ],
   "source": [
    "countries = ['Mexico','Argentina','Colombia','Brazil','Chile']\n",
    "ages= [18,24,34,54] \n",
    "print(id(countries)) #1971346617856    \n",
    "print (id(ages)) #1971346524928\n",
    "weights = [18,24,34,54] \n",
    "print(id(weights)) #1971346571584\n",
    "receta = ['ensalada',2,'lechugas',5,'jitomates']"
   ]
  },
  {
   "cell_type": "code",
   "execution_count": 2,
   "metadata": {
    "tags": []
   },
   "outputs": [
    {
     "output_type": "stream",
     "name": "stdout",
     "text": "['Mexico', 'Argentina', 'Colombia', 'Brazil', 'Chile']\n['Canada', 'Argentina', 'Colombia', 'Brazil', 'Chile']\n"
    }
   ],
   "source": [
    "print (countries)  #['Mexico', 'Argentina', 'Colombia', 'Brazil', 'Chile']\n",
    "countries = ['Mexico','Argentina','Colombia','Brazil','Chile']\n",
    "countries [0] = 'Canada' # Para cambiar Mexico por otro país en mi lista\n",
    "print (countries) #['Canada', 'Argentina', 'Colombia', 'Brazil', 'Chile']"
   ]
  },
  {
   "cell_type": "code",
   "execution_count": 4,
   "metadata": {
    "tags": []
   },
   "outputs": [
    {
     "output_type": "stream",
     "name": "stdout",
     "text": "['Canada', 'Argentina', 'Colombia', 'Brazil', 'Chile']\n"
    }
   ],
   "source": [
    "global_countries = countries\n",
    "print(global_countries) #['Canada', 'Argentina', 'Colombia', 'Brazil', 'Chile']"
   ]
  },
  {
   "cell_type": "code",
   "execution_count": 5,
   "metadata": {
    "tags": []
   },
   "outputs": [
    {
     "output_type": "stream",
     "name": "stdout",
     "text": "['Canada', 'Argentina', 'Colombia', 'Brazil', 'Chile']\n['USA', 'Argentina', 'Colombia', 'Brazil', 'Chile']\n['Canada', 'Argentina', 'Colombia', 'Brazil', 'Chile']\n"
    }
   ],
   "source": [
    "import copy\n",
    "print (countries) #['Canada', 'Argentina', 'Colombia', 'Brazil', 'Chile']\n",
    "global_countries = None\n",
    "global_countries = copy.copy (countries) # Se aplica copia a countries y se queda igual aunque despues se modifique\n",
    "countries [0] = 'USA'\n",
    "print (countries) #['USA', 'Argentina', 'Colombia', 'Brazil', 'Chile']\n",
    "print(global_countries) #['Canada', 'Argentina', 'Colombia', 'Brazil', 'Chile']"
   ]
  },
  {
   "cell_type": "markdown",
   "metadata": {},
   "source": [
    "## Iterar Listas "
   ]
  },
  {
   "cell_type": "code",
   "execution_count": 6,
   "metadata": {
    "tags": []
   },
   "outputs": [
    {
     "output_type": "stream",
     "name": "stdout",
     "text": "USA\nArgentina\nColombia\nBrazil\nChile\n"
    }
   ],
   "source": [
    "for country in countries:\n",
    "    print (country) #USA,Argentina,Colombia,Brazil,Chile"
   ]
  },
  {
   "cell_type": "markdown",
   "metadata": {},
   "source": [
    "## Operaciones Listas"
   ]
  },
  {
   "cell_type": "code",
   "execution_count": 7,
   "metadata": {
    "tags": []
   },
   "outputs": [
    {
     "output_type": "stream",
     "name": "stdout",
     "text": "[0, 2, 4, 6, 8, 10, 12, 14, 16, 18, 20, 22, 24, 26, 28, 30, 32, 34, 36, 38, 40, 42, 44, 46, 48, 50, 52, 54, 56, 58, 60, 62, 64, 66, 68, 70, 72, 74, 76, 78, 80, 82, 84, 86, 88, 90, 92, 94, 96, 98]\n"
    }
   ],
   "source": [
    "a = list(range(0,100,2)) # list o [] es lo mismo \n",
    "print(a) "
   ]
  },
  {
   "cell_type": "code",
   "execution_count": 9,
   "metadata": {
    "tags": []
   },
   "outputs": [
    {
     "output_type": "stream",
     "name": "stdout",
     "text": "[0, 1, 2, 3, 4, 5, 6, 7, 8, 9]\n"
    }
   ],
   "source": [
    "b= list(range(0,10)) #[0, 1, 2, 3, 4, 5, 6, 7, 8, 9]\n",
    "print (b)"
   ]
  },
  {
   "cell_type": "code",
   "execution_count": 10,
   "metadata": {
    "tags": []
   },
   "outputs": [
    {
     "output_type": "stream",
     "name": "stdout",
     "text": "[0, 1, 2, 3, 4, 5, 6, 7, 8, 9, 0, 1, 2, 3, 4, 5, 6, 7, 8, 9]\n"
    }
   ],
   "source": [
    "print (b*2) "
   ]
  },
  {
   "cell_type": "code",
   "execution_count": 11,
   "metadata": {
    "tags": []
   },
   "outputs": [
    {
     "output_type": "stream",
     "name": "stdout",
     "text": "[0, 2, 4, 6, 8, 10, 12, 14, 16, 18, 20, 22, 24, 26, 28, 30, 32, 34, 36, 38, 40, 42, 44, 46, 48, 50, 52, 54, 56, 58, 60, 62, 64, 66, 68, 70, 72, 74, 76, 78, 80, 82, 84, 86, 88, 90, 92, 94, 96, 98, 0, 1, 2, 3, 4, 5, 6, 7, 8, 9]\n"
    }
   ],
   "source": [
    "print (a+b)"
   ]
  },
  {
   "cell_type": "code",
   "execution_count": 26,
   "metadata": {
    "tags": []
   },
   "outputs": [
    {
     "output_type": "stream",
     "name": "stdout",
     "text": "[]\n['__add__', '__class__', '__contains__', '__delattr__', '__delitem__', '__dir__', '__doc__', '__eq__', '__format__', '__ge__', '__getattribute__', '__getitem__', '__gt__', '__hash__', '__iadd__', '__imul__', '__init__', '__init_subclass__', '__iter__', '__le__', '__len__', '__lt__', '__mul__', '__ne__', '__new__', '__reduce__', '__reduce_ex__', '__repr__', '__reversed__', '__rmul__', '__setattr__', '__setitem__', '__sizeof__', '__str__', '__subclasshook__', 'append', 'clear', 'copy', 'count', 'extend', 'index', 'insert', 'pop', 'remove', 'reverse', 'sort']\n"
    }
   ],
   "source": [
    "fruits = list() # Se crea una variable con una lista vacia \n",
    "print (fruits) \n",
    "print(dir(fruits))"
   ]
  },
  {
   "cell_type": "markdown",
   "metadata": {},
   "source": [
    "## Append"
   ]
  },
  {
   "cell_type": "code",
   "execution_count": 27,
   "metadata": {
    "tags": []
   },
   "outputs": [
    {
     "output_type": "stream",
     "name": "stdout",
     "text": "['Apple']\n1\n"
    }
   ],
   "source": [
    "fruits.append ('Apple') # Con el append agregamos una fruta \n",
    "print (fruits) # ['Apple']\n",
    "print(len(fruits)) # Para saber cuantos objetos tenemos en la lista = 1"
   ]
  },
  {
   "cell_type": "code",
   "execution_count": 28,
   "metadata": {
    "tags": []
   },
   "outputs": [
    {
     "output_type": "stream",
     "name": "stdout",
     "text": "['Apple', 'Banana']\n2\n"
    }
   ],
   "source": [
    "fruits.append ('Banana')\n",
    "print (fruits) # ['Apple','Banana']\n",
    "print(len(fruits)) #2"
   ]
  },
  {
   "cell_type": "code",
   "execution_count": 29,
   "metadata": {
    "tags": []
   },
   "outputs": [
    {
     "output_type": "stream",
     "name": "stdout",
     "text": "['Apple', 'Banana', 'Kiwi']\n3\n"
    }
   ],
   "source": [
    "fruits.append ('Kiwi')\n",
    "print (fruits) # ['Apple','Banana','Kiwi']\n",
    "print(len(fruits)) #3"
   ]
  },
  {
   "cell_type": "markdown",
   "metadata": {},
   "source": [
    "## Pop"
   ]
  },
  {
   "cell_type": "code",
   "execution_count": 30,
   "metadata": {
    "tags": []
   },
   "outputs": [
    {
     "output_type": "stream",
     "name": "stdout",
     "text": "Kiwi\n['Apple', 'Banana']\n"
    }
   ],
   "source": [
    "some_fruit = fruits.pop() # Para eliminar el ultimo objeto de nuestra lista \n",
    "print (some_fruit) #Kiwi\n",
    "print(fruits) #['Apple', 'Banana']"
   ]
  },
  {
   "cell_type": "code",
   "execution_count": 31,
   "metadata": {
    "tags": []
   },
   "outputs": [
    {
     "output_type": "stream",
     "name": "stdout",
     "text": "Apple\n['Banana']\n"
    }
   ],
   "source": [
    "some_fruit = fruits.pop(0) \n",
    "print (some_fruit) #Apple\n",
    "print(fruits) #['Banana']"
   ]
  },
  {
   "cell_type": "markdown",
   "metadata": {},
   "source": [
    "## Del"
   ]
  },
  {
   "cell_type": "code",
   "execution_count": 33,
   "metadata": {
    "tags": []
   },
   "outputs": [
    {
     "output_type": "stream",
     "name": "stdout",
     "text": "[]\n"
    }
   ],
   "source": [
    "del fruits [0]\n",
    "print (fruits) #[]"
   ]
  },
  {
   "cell_type": "markdown",
   "metadata": {},
   "source": [
    "## Remove"
   ]
  },
  {
   "cell_type": "code",
   "execution_count": 35,
   "metadata": {},
   "outputs": [
    {
     "output_type": "execute_result",
     "data": {
      "text/plain": "['cat', 'dog', 'guinea pig']"
     },
     "metadata": {},
     "execution_count": 35
    }
   ],
   "source": [
    "# animals list\n",
    "animals = ['cat', 'dog', 'rabbit', 'guinea pig']\n",
    "\n",
    "# 'rabbit' is removed\n",
    "animals.remove('rabbit')\n",
    "animals"
   ]
  },
  {
   "cell_type": "markdown",
   "metadata": {},
   "source": [
    "## Clonar una Lista"
   ]
  },
  {
   "cell_type": "code",
   "execution_count": 2,
   "metadata": {
    "tags": []
   },
   "outputs": [
    {
     "output_type": "stream",
     "name": "stdout",
     "text": "3038441315200\n3038441074176\n"
    }
   ],
   "source": [
    "a = [1,2,3]\n",
    "c = list(a)\n",
    "print(id(a))\n",
    "print(id(c))"
   ]
  },
  {
   "cell_type": "markdown",
   "metadata": {},
   "source": [
    "## Dif Entre append y Extend"
   ]
  },
  {
   "cell_type": "code",
   "execution_count": 36,
   "metadata": {
    "tags": []
   },
   "outputs": [
    {
     "output_type": "stream",
     "name": "stdout",
     "text": "[1, 2, 3, [4, 5]]\n"
    }
   ],
   "source": [
    "#append: Appends object at the end.\n",
    "x = [1, 2, 3]\n",
    "x.append([4, 5])\n",
    "print (x)"
   ]
  },
  {
   "cell_type": "code",
   "execution_count": 38,
   "metadata": {
    "tags": []
   },
   "outputs": [
    {
     "output_type": "stream",
     "name": "stdout",
     "text": "[1, 2, 3, 4, 5]\n"
    }
   ],
   "source": [
    "#extend: Extends list by appending elements from the iterable.\n",
    "x = [1, 2, 3]\n",
    "x.extend([4, 5])\n",
    "print (x)"
   ]
  },
  {
   "cell_type": "code",
   "execution_count": 39,
   "metadata": {
    "tags": []
   },
   "outputs": [
    {
     "output_type": "stream",
     "name": "stdout",
     "text": "[10, 14, 10, 6, 8, 8, 9, 6, 10, 11]\n[6, 6, 8, 8, 9, 10, 10, 10, 11, 14]\n[10, 14, 10, 6, 8, 8, 9, 6, 10, 11]\n[6, 6, 8, 8, 9, 10, 10, 10, 11, 14]\n"
    }
   ],
   "source": [
    "import random\n",
    "random_numbers = [] \n",
    "for i in range (10):\n",
    "    random_numbers.append(random.randint(0,15)) # Para que me devuelva 10 numeros aletorios hasta el 15 \n",
    "print (random_numbers) #[13, 7, 14, 10, 1, 8, 2, 1, 7, 15]\n",
    "\n",
    "ordered_numbers = sorted(random_numbers) # Para acomodar de forma ascendente \n",
    "print (ordered_numbers) #[1, 1, 2, 7, 7, 8, 10, 13, 14, 15]\n",
    "\n",
    "print(random_numbers) #[13, 7, 14, 10, 1, 8, 2, 1, 7, 15]\n",
    "random_numbers.sort() #Otra forma de ordenarlos\n",
    "print(random_numbers) #[1, 1, 2, 7, 7, 8, 10, 13, 14, 15]"
   ]
  }
 ]
}